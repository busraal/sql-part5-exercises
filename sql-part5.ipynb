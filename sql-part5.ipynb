{
    "metadata": {
        "kernelspec": {
            "name": "SQL",
            "display_name": "SQL",
            "language": "sql"
        },
        "language_info": {
            "name": "sql",
            "version": ""
        }
    },
    "nbformat_minor": 2,
    "nbformat": 4,
    "cells": [
        {
            "cell_type": "markdown",
            "source": [
                "# Exercises: Creating, Updating, and Destroying Objects\n",
                "\n",
                "For the exercises, you will be working with objects and data you create. Before opening this notebook, make sure that you have set up the new connection to the server and that you have located the database and your schema.\n",
                "\n",
                "## Object Creation\n",
                "\n",
                "Before coding, think of three things you want to make. These could be coding projects, new recipes, or planned projects for a woodworking hobby. Brainstorm the appropriate column names and data types as well.\n",
                "\n",
                "Create a table under your schema called `planned_makes`."
            ],
            "metadata": {
                "azdata_cell_guid": "9d51c166-0c19-4f27-a422-2a6cf596bfb2"
            },
            "attachments": {}
        },
        {
            "cell_type": "code",
            "source": [
                "USE JunkDB_STL_March2022;\n",
                "CREATE TABLE busra.planned_makes (\n",
                "id INT PRIMARY KEY,\n",
                "first_name VARCHAR (50) NOT NULL,\n",
                "last_name VARCHAR (50) NOT NULL,\n",
                "job_title VARCHAR (50) NOT NULL,\n",
                "percentage_of_increase INT NOT NULL,\n",
                "salary INT NOT NULL,\n",
                "update_salary INT NULL,\n",
                ");"
            ],
            "metadata": {
                "azdata_cell_guid": "d9238911-6f81-4f01-980d-b584307effaf",
                "language": "sql"
            },
            "outputs": [
                {
                    "output_type": "error",
                    "evalue": "Msg 2714, Level 16, State 6, Line 2\nThere is already an object named 'planned_makes' in the database.",
                    "ename": "",
                    "traceback": []
                },
                {
                    "output_type": "display_data",
                    "data": {
                        "text/html": "Total execution time: 00:00:00.075"
                    },
                    "metadata": {}
                }
            ],
            "execution_count": 1
        },
        {
            "cell_type": "code",
            "source": [
                "SELECT *\n",
                "FROM busra.planned_makes"
            ],
            "metadata": {
                "azdata_cell_guid": "ea4d5adc-a67c-48a3-923b-c75ab8c78199",
                "language": "sql"
            },
            "outputs": [],
            "execution_count": null
        },
        {
            "cell_type": "markdown",
            "source": [
                "Add three rows to your table that are your planned makes."
            ],
            "metadata": {
                "azdata_cell_guid": "83cdf34d-8c4f-4fa1-a14e-77384b19d734"
            }
        },
        {
            "cell_type": "code",
            "source": [
                "\n",
                "INSERT INTO busra.planned_makes\n",
                "\n",
                "VALUES ('John', 'Simith', 'Data Scientist', '10', 70000, 77000),\n",
                "('Helen', 'Sartre', 'HR Specialist', '15', 75000, 86250),\n",
                "('Melissa', 'David', 'Computer Engineer', '20', 90000, 108000);"
            ],
            "metadata": {
                "azdata_cell_guid": "e7cff9cb-87ba-4c7b-98f2-eaf445e8719c",
                "language": "sql"
            },
            "outputs": [
                {
                    "output_type": "display_data",
                    "data": {
                        "text/html": "(12 rows affected)"
                    },
                    "metadata": {}
                },
                {
                    "output_type": "display_data",
                    "data": {
                        "text/html": "Total execution time: 00:00:00.149"
                    },
                    "metadata": {}
                },
                {
                    "output_type": "execute_result",
                    "metadata": {},
                    "execution_count": 2,
                    "data": {
                        "application/vnd.dataresource+json": {
                            "schema": {
                                "fields": [
                                    {
                                        "name": "first_name"
                                    },
                                    {
                                        "name": "last_name"
                                    },
                                    {
                                        "name": "job_title"
                                    },
                                    {
                                        "name": "rate_of_increase"
                                    },
                                    {
                                        "name": "salary"
                                    },
                                    {
                                        "name": "update_salary"
                                    }
                                ]
                            },
                            "data": [
                                {
                                    "0": "John",
                                    "1": "Simith",
                                    "2": "Data Scientist",
                                    "3": "10",
                                    "4": "70000",
                                    "5": "77"
                                },
                                {
                                    "0": "Helen",
                                    "1": "Sartre",
                                    "2": "HR Specialist",
                                    "3": "15",
                                    "4": "75",
                                    "5": "86"
                                },
                                {
                                    "0": "Melissa",
                                    "1": "David",
                                    "2": "Computer Engineer",
                                    "3": "20",
                                    "4": "90",
                                    "5": "108"
                                },
                                {
                                    "0": "John",
                                    "1": "Simith",
                                    "2": "Data Scientist",
                                    "3": "10",
                                    "4": "70000",
                                    "5": "77"
                                },
                                {
                                    "0": "Helen",
                                    "1": "Sartre",
                                    "2": "HR Specialist",
                                    "3": "15",
                                    "4": "75",
                                    "5": "86"
                                },
                                {
                                    "0": "Melissa",
                                    "1": "David",
                                    "2": "Computer Engineer",
                                    "3": "20",
                                    "4": "90",
                                    "5": "108"
                                },
                                {
                                    "0": "John",
                                    "1": "Simith",
                                    "2": "Data Scientist",
                                    "3": "10",
                                    "4": "70000",
                                    "5": "77000"
                                },
                                {
                                    "0": "Helen",
                                    "1": "Sartre",
                                    "2": "HR Specialist",
                                    "3": "15",
                                    "4": "75000",
                                    "5": "86250"
                                },
                                {
                                    "0": "Melissa",
                                    "1": "David",
                                    "2": "Computer Engineer",
                                    "3": "20",
                                    "4": "90000",
                                    "5": "108000"
                                },
                                {
                                    "0": "John",
                                    "1": "Simith",
                                    "2": "Data Scientist",
                                    "3": "10",
                                    "4": "70000",
                                    "5": "77000"
                                },
                                {
                                    "0": "Helen",
                                    "1": "Sartre",
                                    "2": "HR Specialist",
                                    "3": "15",
                                    "4": "75000",
                                    "5": "86250"
                                },
                                {
                                    "0": "Melissa",
                                    "1": "David",
                                    "2": "Computer Engineer",
                                    "3": "20",
                                    "4": "90000",
                                    "5": "108000"
                                }
                            ]
                        },
                        "text/html": [
                            "<table>",
                            "<tr><th>first_name</th><th>last_name</th><th>job_title</th><th>rate_of_increase</th><th>salary</th><th>update_salary</th></tr>",
                            "<tr><td>John</td><td>Simith</td><td>Data Scientist</td><td>10</td><td>70000</td><td>77</td></tr>",
                            "<tr><td>Helen</td><td>Sartre</td><td>HR Specialist</td><td>15</td><td>75</td><td>86</td></tr>",
                            "<tr><td>Melissa</td><td>David</td><td>Computer Engineer</td><td>20</td><td>90</td><td>108</td></tr>",
                            "<tr><td>John</td><td>Simith</td><td>Data Scientist</td><td>10</td><td>70000</td><td>77</td></tr>",
                            "<tr><td>Helen</td><td>Sartre</td><td>HR Specialist</td><td>15</td><td>75</td><td>86</td></tr>",
                            "<tr><td>Melissa</td><td>David</td><td>Computer Engineer</td><td>20</td><td>90</td><td>108</td></tr>",
                            "<tr><td>John</td><td>Simith</td><td>Data Scientist</td><td>10</td><td>70000</td><td>77000</td></tr>",
                            "<tr><td>Helen</td><td>Sartre</td><td>HR Specialist</td><td>15</td><td>75000</td><td>86250</td></tr>",
                            "<tr><td>Melissa</td><td>David</td><td>Computer Engineer</td><td>20</td><td>90000</td><td>108000</td></tr>",
                            "<tr><td>John</td><td>Simith</td><td>Data Scientist</td><td>10</td><td>70000</td><td>77000</td></tr>",
                            "<tr><td>Helen</td><td>Sartre</td><td>HR Specialist</td><td>15</td><td>75000</td><td>86250</td></tr>",
                            "<tr><td>Melissa</td><td>David</td><td>Computer Engineer</td><td>20</td><td>90000</td><td>108000</td></tr>",
                            "</table>"
                        ]
                    }
                }
            ],
            "execution_count": 2
        },
        {
            "cell_type": "markdown",
            "source": [
                "## Update a Row\n",
                "\n",
                "Change different values in one of your three rows."
            ],
            "metadata": {
                "azdata_cell_guid": "4a39b8d4-ae97-4e09-8336-c5fc6a00d76c"
            },
            "attachments": {}
        },
        {
            "cell_type": "code",
            "source": [
                "UPDATE busra.planned_makes\n",
                "SET salary = 75000\n",
                "WHERE rate_of_increase = 15"
            ],
            "metadata": {
                "azdata_cell_guid": "7409c695-9581-4ad8-b03a-574d2c4c87cb",
                "language": "sql"
            },
            "outputs": [
                {
                    "output_type": "display_data",
                    "data": {
                        "text/html": "(4 rows affected)"
                    },
                    "metadata": {}
                },
                {
                    "output_type": "display_data",
                    "data": {
                        "text/html": "Total execution time: 00:00:00.061"
                    },
                    "metadata": {}
                }
            ],
            "execution_count": 3
        },
        {
            "cell_type": "markdown",
            "source": [
                "## Delete a Row\n",
                "\n",
                "Delete one of the rows from your table."
            ],
            "metadata": {
                "azdata_cell_guid": "95e91a6e-9038-42d9-9401-5738842aba17"
            }
        },
        {
            "cell_type": "code",
            "source": [
                "DELETE \n",
                "FROM busra.planned_makes\n",
                "WHERE rate_of_increase = 20"
            ],
            "metadata": {
                "azdata_cell_guid": "749c748f-19b5-4c69-9004-b6b20216616a",
                "language": "sql"
            },
            "outputs": [
                {
                    "output_type": "display_data",
                    "data": {
                        "text/html": "(4 rows affected)"
                    },
                    "metadata": {}
                },
                {
                    "output_type": "display_data",
                    "data": {
                        "text/html": "Total execution time: 00:00:00.058"
                    },
                    "metadata": {}
                }
            ],
            "execution_count": 4
        },
        {
            "cell_type": "markdown",
            "source": [
                "## Drop the Table\n",
                "\n",
                "While this has been fun, it is time to drop the table!"
            ],
            "metadata": {
                "azdata_cell_guid": "2239cb09-137b-4579-905b-1aa020793181"
            },
            "attachments": {}
        },
        {
            "cell_type": "code",
            "source": [
                "DROP TABLE busra.planned_makes"
            ],
            "metadata": {
                "azdata_cell_guid": "b3c7f6ea-ee26-46b3-9c2a-2f7a82c39699",
                "language": "sql"
            },
            "outputs": [
                {
                    "output_type": "display_data",
                    "data": {
                        "text/html": "Commands completed successfully."
                    },
                    "metadata": {}
                },
                {
                    "output_type": "display_data",
                    "data": {
                        "text/html": "Total execution time: 00:00:00.061"
                    },
                    "metadata": {}
                }
            ],
            "execution_count": 5
        }
    ]
}